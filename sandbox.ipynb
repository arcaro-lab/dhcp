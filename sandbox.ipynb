{
 "cells": [
  {
   "cell_type": "code",
   "execution_count": 1,
   "metadata": {},
   "outputs": [],
   "source": [
    "git_dir = '/mnt/c/Users/ArcaroLab/Desktop/git_repos/dhcp'\n",
    "import sys\n",
    "#add git_dir to path\n",
    "sys.path.append(git_dir)\n",
    "from nilearn import plotting, image\n",
    "import numpy as np\n",
    "import nibabel as nib\n",
    "import dhcp_params as params\n",
    "import pandas as pd\n",
    "from nilearn.maskers import NiftiMasker\n",
    "from glob import glob as glob\n",
    "from nilearn.maskers import MultiNiftiMasker\n",
    "from nilearn.maskers import NiftiLabelsMasker\n",
    "import dhcp_params as params\n",
    "import matplotlib.pyplot as plt\n"
   ]
  },
  {
   "cell_type": "code",
   "execution_count": 20,
   "metadata": {},
   "outputs": [],
   "source": [
    "diffusion_dir = '/mnt/e/diffusion/FinalData/Seeds/40week/distcorr_normmax/V1_lh'\n",
    "\n",
    "#glob all the files\n",
    "files = glob(diffusion_dir + '/*.nii.gz')\n",
    "\n",
    "#extract the subs from each file's name\n",
    "#find where sub- starts\n",
    "subs = []\n",
    "for file in files:\n",
    "    start = file.find('sub-')\n",
    "    subs.append(file[start:(start+15)])\n",
    "\n",
    "#convert to dataframe\n",
    "df = pd.DataFrame(subs, columns=['subs'])\n",
    "\n",
    "#keep only unique subs\n",
    "df = df.drop_duplicates()\n"
   ]
  },
  {
   "cell_type": "code",
   "execution_count": 21,
   "metadata": {},
   "outputs": [],
   "source": [
    "#load dhcp sub_list\n",
    "full_sub_list = pd.read_csv(f'{params.out_dir}/participants.csv')\n",
    "\n"
   ]
  },
  {
   "cell_type": "code",
   "execution_count": 22,
   "metadata": {},
   "outputs": [
    {
     "name": "stderr",
     "output_type": "stream",
     "text": [
      "/tmp/ipykernel_875347/2364714121.py:5: SettingWithCopyWarning: \n",
      "A value is trying to be set on a copy of a slice from a DataFrame\n",
      "\n",
      "See the caveats in the documentation: https://pandas.pydata.org/pandas-docs/stable/user_guide/indexing.html#returning-a-view-versus-a-copy\n",
      "  full_sub_list['to_run'][i] = 1\n",
      "/tmp/ipykernel_875347/2364714121.py:5: SettingWithCopyWarning: \n",
      "A value is trying to be set on a copy of a slice from a DataFrame\n",
      "\n",
      "See the caveats in the documentation: https://pandas.pydata.org/pandas-docs/stable/user_guide/indexing.html#returning-a-view-versus-a-copy\n",
      "  full_sub_list['to_run'][i] = 1\n",
      "/tmp/ipykernel_875347/2364714121.py:5: SettingWithCopyWarning: \n",
      "A value is trying to be set on a copy of a slice from a DataFrame\n",
      "\n",
      "See the caveats in the documentation: https://pandas.pydata.org/pandas-docs/stable/user_guide/indexing.html#returning-a-view-versus-a-copy\n",
      "  full_sub_list['to_run'][i] = 1\n",
      "/tmp/ipykernel_875347/2364714121.py:5: SettingWithCopyWarning: \n",
      "A value is trying to be set on a copy of a slice from a DataFrame\n",
      "\n",
      "See the caveats in the documentation: https://pandas.pydata.org/pandas-docs/stable/user_guide/indexing.html#returning-a-view-versus-a-copy\n",
      "  full_sub_list['to_run'][i] = 1\n",
      "/tmp/ipykernel_875347/2364714121.py:5: SettingWithCopyWarning: \n",
      "A value is trying to be set on a copy of a slice from a DataFrame\n",
      "\n",
      "See the caveats in the documentation: https://pandas.pydata.org/pandas-docs/stable/user_guide/indexing.html#returning-a-view-versus-a-copy\n",
      "  full_sub_list['to_run'][i] = 1\n",
      "/tmp/ipykernel_875347/2364714121.py:5: SettingWithCopyWarning: \n",
      "A value is trying to be set on a copy of a slice from a DataFrame\n",
      "\n",
      "See the caveats in the documentation: https://pandas.pydata.org/pandas-docs/stable/user_guide/indexing.html#returning-a-view-versus-a-copy\n",
      "  full_sub_list['to_run'][i] = 1\n",
      "/tmp/ipykernel_875347/2364714121.py:5: SettingWithCopyWarning: \n",
      "A value is trying to be set on a copy of a slice from a DataFrame\n",
      "\n",
      "See the caveats in the documentation: https://pandas.pydata.org/pandas-docs/stable/user_guide/indexing.html#returning-a-view-versus-a-copy\n",
      "  full_sub_list['to_run'][i] = 1\n",
      "/tmp/ipykernel_875347/2364714121.py:5: SettingWithCopyWarning: \n",
      "A value is trying to be set on a copy of a slice from a DataFrame\n",
      "\n",
      "See the caveats in the documentation: https://pandas.pydata.org/pandas-docs/stable/user_guide/indexing.html#returning-a-view-versus-a-copy\n",
      "  full_sub_list['to_run'][i] = 1\n",
      "/tmp/ipykernel_875347/2364714121.py:5: SettingWithCopyWarning: \n",
      "A value is trying to be set on a copy of a slice from a DataFrame\n",
      "\n",
      "See the caveats in the documentation: https://pandas.pydata.org/pandas-docs/stable/user_guide/indexing.html#returning-a-view-versus-a-copy\n",
      "  full_sub_list['to_run'][i] = 1\n",
      "/tmp/ipykernel_875347/2364714121.py:5: SettingWithCopyWarning: \n",
      "A value is trying to be set on a copy of a slice from a DataFrame\n",
      "\n",
      "See the caveats in the documentation: https://pandas.pydata.org/pandas-docs/stable/user_guide/indexing.html#returning-a-view-versus-a-copy\n",
      "  full_sub_list['to_run'][i] = 1\n",
      "/tmp/ipykernel_875347/2364714121.py:5: SettingWithCopyWarning: \n",
      "A value is trying to be set on a copy of a slice from a DataFrame\n",
      "\n",
      "See the caveats in the documentation: https://pandas.pydata.org/pandas-docs/stable/user_guide/indexing.html#returning-a-view-versus-a-copy\n",
      "  full_sub_list['to_run'][i] = 1\n",
      "/tmp/ipykernel_875347/2364714121.py:5: SettingWithCopyWarning: \n",
      "A value is trying to be set on a copy of a slice from a DataFrame\n",
      "\n",
      "See the caveats in the documentation: https://pandas.pydata.org/pandas-docs/stable/user_guide/indexing.html#returning-a-view-versus-a-copy\n",
      "  full_sub_list['to_run'][i] = 1\n",
      "/tmp/ipykernel_875347/2364714121.py:5: SettingWithCopyWarning: \n",
      "A value is trying to be set on a copy of a slice from a DataFrame\n",
      "\n",
      "See the caveats in the documentation: https://pandas.pydata.org/pandas-docs/stable/user_guide/indexing.html#returning-a-view-versus-a-copy\n",
      "  full_sub_list['to_run'][i] = 1\n",
      "/tmp/ipykernel_875347/2364714121.py:5: SettingWithCopyWarning: \n",
      "A value is trying to be set on a copy of a slice from a DataFrame\n",
      "\n",
      "See the caveats in the documentation: https://pandas.pydata.org/pandas-docs/stable/user_guide/indexing.html#returning-a-view-versus-a-copy\n",
      "  full_sub_list['to_run'][i] = 1\n",
      "/tmp/ipykernel_875347/2364714121.py:5: SettingWithCopyWarning: \n",
      "A value is trying to be set on a copy of a slice from a DataFrame\n",
      "\n",
      "See the caveats in the documentation: https://pandas.pydata.org/pandas-docs/stable/user_guide/indexing.html#returning-a-view-versus-a-copy\n",
      "  full_sub_list['to_run'][i] = 1\n",
      "/tmp/ipykernel_875347/2364714121.py:5: SettingWithCopyWarning: \n",
      "A value is trying to be set on a copy of a slice from a DataFrame\n",
      "\n",
      "See the caveats in the documentation: https://pandas.pydata.org/pandas-docs/stable/user_guide/indexing.html#returning-a-view-versus-a-copy\n",
      "  full_sub_list['to_run'][i] = 1\n",
      "/tmp/ipykernel_875347/2364714121.py:5: SettingWithCopyWarning: \n",
      "A value is trying to be set on a copy of a slice from a DataFrame\n",
      "\n",
      "See the caveats in the documentation: https://pandas.pydata.org/pandas-docs/stable/user_guide/indexing.html#returning-a-view-versus-a-copy\n",
      "  full_sub_list['to_run'][i] = 1\n",
      "/tmp/ipykernel_875347/2364714121.py:5: SettingWithCopyWarning: \n",
      "A value is trying to be set on a copy of a slice from a DataFrame\n",
      "\n",
      "See the caveats in the documentation: https://pandas.pydata.org/pandas-docs/stable/user_guide/indexing.html#returning-a-view-versus-a-copy\n",
      "  full_sub_list['to_run'][i] = 1\n",
      "/tmp/ipykernel_875347/2364714121.py:5: SettingWithCopyWarning: \n",
      "A value is trying to be set on a copy of a slice from a DataFrame\n",
      "\n",
      "See the caveats in the documentation: https://pandas.pydata.org/pandas-docs/stable/user_guide/indexing.html#returning-a-view-versus-a-copy\n",
      "  full_sub_list['to_run'][i] = 1\n",
      "/tmp/ipykernel_875347/2364714121.py:5: SettingWithCopyWarning: \n",
      "A value is trying to be set on a copy of a slice from a DataFrame\n",
      "\n",
      "See the caveats in the documentation: https://pandas.pydata.org/pandas-docs/stable/user_guide/indexing.html#returning-a-view-versus-a-copy\n",
      "  full_sub_list['to_run'][i] = 1\n",
      "/tmp/ipykernel_875347/2364714121.py:5: SettingWithCopyWarning: \n",
      "A value is trying to be set on a copy of a slice from a DataFrame\n",
      "\n",
      "See the caveats in the documentation: https://pandas.pydata.org/pandas-docs/stable/user_guide/indexing.html#returning-a-view-versus-a-copy\n",
      "  full_sub_list['to_run'][i] = 1\n",
      "/tmp/ipykernel_875347/2364714121.py:5: SettingWithCopyWarning: \n",
      "A value is trying to be set on a copy of a slice from a DataFrame\n",
      "\n",
      "See the caveats in the documentation: https://pandas.pydata.org/pandas-docs/stable/user_guide/indexing.html#returning-a-view-versus-a-copy\n",
      "  full_sub_list['to_run'][i] = 1\n",
      "/tmp/ipykernel_875347/2364714121.py:5: SettingWithCopyWarning: \n",
      "A value is trying to be set on a copy of a slice from a DataFrame\n",
      "\n",
      "See the caveats in the documentation: https://pandas.pydata.org/pandas-docs/stable/user_guide/indexing.html#returning-a-view-versus-a-copy\n",
      "  full_sub_list['to_run'][i] = 1\n",
      "/tmp/ipykernel_875347/2364714121.py:5: SettingWithCopyWarning: \n",
      "A value is trying to be set on a copy of a slice from a DataFrame\n",
      "\n",
      "See the caveats in the documentation: https://pandas.pydata.org/pandas-docs/stable/user_guide/indexing.html#returning-a-view-versus-a-copy\n",
      "  full_sub_list['to_run'][i] = 1\n",
      "/tmp/ipykernel_875347/2364714121.py:5: SettingWithCopyWarning: \n",
      "A value is trying to be set on a copy of a slice from a DataFrame\n",
      "\n",
      "See the caveats in the documentation: https://pandas.pydata.org/pandas-docs/stable/user_guide/indexing.html#returning-a-view-versus-a-copy\n",
      "  full_sub_list['to_run'][i] = 1\n",
      "/tmp/ipykernel_875347/2364714121.py:5: SettingWithCopyWarning: \n",
      "A value is trying to be set on a copy of a slice from a DataFrame\n",
      "\n",
      "See the caveats in the documentation: https://pandas.pydata.org/pandas-docs/stable/user_guide/indexing.html#returning-a-view-versus-a-copy\n",
      "  full_sub_list['to_run'][i] = 1\n",
      "/tmp/ipykernel_875347/2364714121.py:5: SettingWithCopyWarning: \n",
      "A value is trying to be set on a copy of a slice from a DataFrame\n",
      "\n",
      "See the caveats in the documentation: https://pandas.pydata.org/pandas-docs/stable/user_guide/indexing.html#returning-a-view-versus-a-copy\n",
      "  full_sub_list['to_run'][i] = 1\n",
      "/tmp/ipykernel_875347/2364714121.py:5: SettingWithCopyWarning: \n",
      "A value is trying to be set on a copy of a slice from a DataFrame\n",
      "\n",
      "See the caveats in the documentation: https://pandas.pydata.org/pandas-docs/stable/user_guide/indexing.html#returning-a-view-versus-a-copy\n",
      "  full_sub_list['to_run'][i] = 1\n",
      "/tmp/ipykernel_875347/2364714121.py:5: SettingWithCopyWarning: \n",
      "A value is trying to be set on a copy of a slice from a DataFrame\n",
      "\n",
      "See the caveats in the documentation: https://pandas.pydata.org/pandas-docs/stable/user_guide/indexing.html#returning-a-view-versus-a-copy\n",
      "  full_sub_list['to_run'][i] = 1\n",
      "/tmp/ipykernel_875347/2364714121.py:5: SettingWithCopyWarning: \n",
      "A value is trying to be set on a copy of a slice from a DataFrame\n",
      "\n",
      "See the caveats in the documentation: https://pandas.pydata.org/pandas-docs/stable/user_guide/indexing.html#returning-a-view-versus-a-copy\n",
      "  full_sub_list['to_run'][i] = 1\n"
     ]
    }
   ],
   "source": [
    "#add 1 to the sub_list if they are in the diffusion data\n",
    "full_sub_list['to_run'] = 0\n",
    "for i in range(len(full_sub_list)):\n",
    "    if full_sub_list['participant_id'][i] in df['subs'].values:\n",
    "        full_sub_list['to_run'][i] = 1"
   ]
  },
  {
   "cell_type": "code",
   "execution_count": null,
   "metadata": {},
   "outputs": [],
   "source": [
    "#save the new sub_list\n",
    "full_sub_list.to_csv(f'{git_dir}/participants.csv', index=False)"
   ]
  },
  {
   "cell_type": "code",
   "execution_count": 7,
   "metadata": {},
   "outputs": [
    {
     "data": {
      "text/plain": [
       "15"
      ]
     },
     "execution_count": 7,
     "metadata": {},
     "output_type": "execute_result"
    }
   ],
   "source": [
    "len('sub-CC00063AN06')"
   ]
  },
  {
   "cell_type": "code",
   "execution_count": 9,
   "metadata": {},
   "outputs": [],
   "source": [
    "'''diffusion tests'''\n",
    "sub = 'sub-CC00063AN06'\n",
    "ses = 'ses-15102'\n",
    "roi = 'V1_lh'\n",
    "\n",
    "raw_data_dir, raw_anat_dir, raw_func_dir, out_dir, anat_suf, func_suf, brain_mask_suf, group_template,template_name = params.load_group_params('infant')\n",
    "dti_dir = f'/mnt/e/diffusion/'\n",
    "\n",
    "\n",
    "anat = image.load_img(f'{out_dir}/{sub}/{ses}/anat/{sub}_{ses}_{anat_suf}_brain.nii.gz')\n",
    "\n",
    "dti_img = image.load_img(f'{dti_dir}/FinalData/Paths/native/distcorr/{roi}/{roi}_{sub}_fdt_paths.nii.gz')"
   ]
  },
  {
   "cell_type": "code",
   "execution_count": 5,
   "metadata": {},
   "outputs": [
    {
     "data": {
      "text/plain": [
       "(128, 128, 64)"
      ]
     },
     "execution_count": 5,
     "metadata": {},
     "output_type": "execute_result"
    }
   ],
   "source": [
    "dti_img.shape"
   ]
  },
  {
   "cell_type": "code",
   "execution_count": 7,
   "metadata": {},
   "outputs": [
    {
     "data": {
      "text/plain": [
       "(217, 290, 290)"
      ]
     },
     "execution_count": 7,
     "metadata": {},
     "output_type": "execute_result"
    }
   ],
   "source": [
    "anat.shape"
   ]
  },
  {
   "cell_type": "code",
   "execution_count": null,
   "metadata": {},
   "outputs": [],
   "source": [
    "#resample dti to anat\n",
    "dti_img_resamp = image.resample_to_img(dti_img, anat)\n",
    "\n",
    "#save resampled dti\n",
    "dti_img_resamp.to_filename(f'{dti_dir}/vlad/{roi}_{sub}_fdt_paths_resamp.nii.gz')"
   ]
  },
  {
   "cell_type": "code",
   "execution_count": 3,
   "metadata": {},
   "outputs": [],
   "source": [
    "atlas = 'wang'\n",
    "atlas_name, roi_labels = params.load_atlas_info(atlas)\n"
   ]
  },
  {
   "cell_type": "code",
   "execution_count": 4,
   "metadata": {},
   "outputs": [],
   "source": [
    "sub = 'sub-CC00056XX07'\n",
    "ses = 'ses-10700'\n",
    "\n",
    "anat_dir = f'{params.raw_anat_dir}/{sub}/{ses}/anat'\n",
    "func_dir = f'{params.raw_func_dir}/{sub}/{ses}func'\n",
    "out_dir = f'{params.out_dir}/{sub}/{ses}'\n",
    "roi_dir = f'{out_dir}/rois/'\n",
    "#load anatomical\n",
    "anat_img = image.load_img(f'{anat_dir}/{sub}_{ses}_{params.anat_suf}.nii.gz')\n",
    "#load functional\n",
    "func_img = image.load_img(f'{params.out_dir}/{sub}/{ses}/func/{sub}_{ses}_{params.func_suf}_1vol.nii.gz')\n",
    "\n",
    "stat_img = image.load_img(f'{out_dir}/derivatives/thalmocortical/rh_IPS0_second_order_anat.nii.gz')\n"
   ]
  },
  {
   "cell_type": "code",
   "execution_count": 23,
   "metadata": {},
   "outputs": [],
   "source": [
    "#loop through rois and load them\n",
    "\n",
    "\n",
    "for hemi in ['lh','rh']:\n",
    "    roi_imgs = []\n",
    "\n",
    "    \n",
    "    for roi in roi_labels['label']:\n",
    "        roi_imgs.append(image.load_img(f'{roi_dir}/{hemi}_{roi}_epi.nii.gz').get_fdata())\n",
    "\n",
    "    #create a zeros array with the same shape as the functional image\n",
    "    zero_imgs = np.zeros(func_img.shape)  \n",
    "    #insert zeros array as the first element of the roi_imgs list\n",
    "    roi_imgs.insert(0, zero_imgs)\n",
    "    #conert to numpy array\n",
    "    roi_imgs = np.array(roi_imgs)\n",
    "    #insert zeros array as the first element of the roi_imgs array\n",
    "    \n",
    "\n",
    "    #for every voxel, get the index of the max value\n",
    "    max_roi = np.argmax(roi_imgs, axis=0)\n",
    "    #add 1 to the index to get the roi label\n",
    "    \n",
    "    #convert max_roi to nifti\n",
    "    max_roi = nib.Nifti1Image(max_roi, func_img.affine, func_img.header)\n",
    "\n",
    "    #save it\n",
    "    nib.save(max_roi, f'{out_dir}/atlas/Wang_maxprob_surf_{hemi}_edits_epi.nii.gz')\n"
   ]
  },
  {
   "cell_type": "code",
   "execution_count": 16,
   "metadata": {},
   "outputs": [],
   "source": []
  },
  {
   "cell_type": "code",
   "execution_count": 17,
   "metadata": {},
   "outputs": [],
   "source": [
    "\n"
   ]
  },
  {
   "cell_type": "markdown",
   "metadata": {},
   "source": [
    "#### Adult\n"
   ]
  },
  {
   "cell_type": "code",
   "execution_count": 42,
   "metadata": {},
   "outputs": [],
   "source": [
    "sub = 'sub-104416'\n",
    "ses = 'ses-01'\n",
    "#load anatomical\n",
    "anat_img = image.load_img(f'{params.out_dir}/{sub}/{ses}/anat/{sub}_{ses}_{params.anat_suf}.nii.gz')\n",
    "#load functional\n",
    "func_img = image.load_img(f'{params.raw_func_dir}/{sub}/{ses}/func/{sub}_{ses}_{params.func_suf}.nii.gz')\n",
    "func_dir = f'{params.raw_func_dir}/{sub}/{ses}'\n",
    "out_dir = f'{params.out_dir}/{sub}/{ses}'\n",
    "roi_dir = f'{out_dir}/rois/{atlas}'\n",
    "\n",
    "roi_img = image.load_img(f'{roi_dir}/lh_V1v_epi.nii.gz')\n",
    "\n",
    "atlas_dir = f'{out_dir}/atlas/Wang_maxprob_surf_lh_edits_epi.nii'"
   ]
  },
  {
   "cell_type": "code",
   "execution_count": 47,
   "metadata": {},
   "outputs": [],
   "source": [
    "masker = NiftiLabelsMasker(\n",
    "    labels_img=atlas_dir,\n",
    "    standardize=\"zscore_sample\",\n",
    "    standardize_confounds=\"zscore_sample\",\n",
    "    smoothing_fwhm=params.smooth_mm)"
   ]
  },
  {
   "cell_type": "code",
   "execution_count": 40,
   "metadata": {},
   "outputs": [],
   "source": [
    "#glob all func files\n",
    "func_files = glob(f'{func_dir}/func/*_bold.nii.gz')\n",
    "func_files = func_files[0:1]"
   ]
  },
  {
   "cell_type": "code",
   "execution_count": 48,
   "metadata": {},
   "outputs": [],
   "source": [
    "time_series = masker.fit_transform(func_img)"
   ]
  },
  {
   "cell_type": "code",
   "execution_count": 49,
   "metadata": {},
   "outputs": [
    {
     "data": {
      "text/plain": [
       "(900, 25)"
      ]
     },
     "execution_count": 49,
     "metadata": {},
     "output_type": "execute_result"
    }
   ],
   "source": [
    "time_series.shape"
   ]
  },
  {
   "cell_type": "code",
   "execution_count": 46,
   "metadata": {},
   "outputs": [
    {
     "data": {
      "text/plain": [
       "array([ 2.10849380e+00,  1.36608434e+00,  6.96354806e-01,  1.28054440e-01,\n",
       "       -7.27727190e-02,  2.54483998e-01,  1.97983578e-01, -4.27351110e-02,\n",
       "       -2.87330359e-01, -4.64480281e-01, -1.92493707e-01,  1.01197019e-01,\n",
       "        1.13732032e-01,  3.94226164e-01,  4.68739867e-01,  8.09309185e-01,\n",
       "        1.16738117e+00,  1.33421290e+00,  1.48876500e+00,  1.21987736e+00,\n",
       "        9.55551028e-01,  7.80397415e-01,  1.80097967e-01,  1.80364907e-01,\n",
       "        4.67997044e-01,  9.04273510e-01,  1.15081871e+00,  9.00872827e-01,\n",
       "        1.02777827e+00,  8.59797478e-01,  8.60017955e-01,  1.19642055e+00,\n",
       "        1.42938614e+00,  1.54112184e+00,  1.19835889e+00,  1.64164567e+00,\n",
       "        1.37216616e+00,  1.67436445e+00,  1.59777319e+00,  1.18567300e+00,\n",
       "        9.60321307e-01,  8.27334106e-01,  9.85936821e-01,  9.50989664e-01,\n",
       "        1.08010030e+00,  1.27908206e+00,  7.37488210e-01,  1.17102563e+00,\n",
       "        1.35952663e+00,  1.85706222e+00,  1.39418364e+00,  1.81953847e+00,\n",
       "        1.94103515e+00,  1.65080321e+00,  1.46311462e+00,  1.33261120e+00,\n",
       "        1.61063313e+00,  1.42214370e+00,  8.49386454e-01,  6.63392365e-01,\n",
       "        1.55944854e-01,  1.05189651e-01, -1.57651007e-01, -5.32668412e-01,\n",
       "        1.28843695e-01,  7.29236007e-02,  6.74221218e-02,  8.32649842e-02,\n",
       "        3.00735861e-01,  6.47584319e-01,  5.65479994e-01,  7.05280185e-01,\n",
       "        9.98831630e-01,  1.28242469e+00,  1.19578218e+00,  1.72496867e+00,\n",
       "        1.62110221e+00,  2.00643778e+00,  2.07997656e+00,  2.74490094e+00,\n",
       "        2.61855268e+00,  1.94839370e+00,  1.59605539e+00,  1.65763950e+00,\n",
       "        1.28443265e+00,  1.19584024e+00,  1.03470731e+00,  1.23511660e+00,\n",
       "        1.23909771e+00,  5.80510378e-01,  4.45468843e-01,  1.67632595e-01,\n",
       "       -1.82221958e-03,  1.60575837e-01,  4.24913727e-02,  1.64556876e-01,\n",
       "        2.43098006e-01,  5.38761854e-01,  6.72584713e-01,  5.84096789e-01,\n",
       "        3.53916824e-01,  5.68915486e-01,  9.03530717e-01,  6.50219023e-01,\n",
       "        1.02293837e+00,  1.37050641e+00,  1.24351978e+00,  1.60687268e+00,\n",
       "        1.76013637e+00,  1.39464796e+00,  1.84094083e+00,  1.55905390e+00,\n",
       "        1.06035769e+00,  1.05259287e+00,  7.13625252e-01,  8.60180497e-01,\n",
       "        1.08915341e+00,  1.05612135e+00,  1.29472756e+00,  1.41430926e+00,\n",
       "        1.18657827e+00,  7.41527259e-01,  1.22027194e+00,  1.08657670e+00,\n",
       "        1.65354240e+00,  2.11246300e+00,  2.10670638e+00,  2.49690509e+00,\n",
       "        1.99140739e+00,  1.62503684e+00,  1.82332218e+00,  1.18237674e+00,\n",
       "        1.04104447e+00,  8.61364305e-01,  5.89807212e-01,  1.04489779e+00,\n",
       "        1.17588866e+00,  8.98447096e-01,  1.45082331e+00,  1.73146832e+00,\n",
       "        1.76222551e+00,  2.05519676e+00,  1.95881641e+00,  1.98625410e+00,\n",
       "        1.99292779e+00,  1.79610491e+00,  1.41061842e+00,  6.84109986e-01,\n",
       "        8.44604552e-01,  7.57068396e-01,  5.83713770e-01,  4.11902845e-01,\n",
       "       -3.72939855e-01, -6.32310152e-01, -1.59798205e-01, -1.95047125e-01,\n",
       "       -2.72056222e-01, -4.20363992e-01,  1.77033857e-01,  1.51464745e-01,\n",
       "        3.76572698e-01,  1.65543422e-01,  3.68924022e-01,  7.11245954e-01,\n",
       "        8.84693384e-01,  1.06763494e+00,  1.46694469e+00,  1.50015092e+00,\n",
       "        1.41225493e+00,  1.02312398e+00,  9.16971028e-01,  8.83254170e-01,\n",
       "        1.08101726e+00,  7.26160288e-01,  7.93617249e-01,  1.17095590e+00,\n",
       "        1.30040312e+00,  1.52493083e+00,  1.54640281e+00,  1.16828644e+00,\n",
       "        6.46644175e-01,  7.27007568e-01,  7.23978281e-01,  5.93115032e-01,\n",
       "        4.61590260e-01,  5.84375381e-01,  4.42451149e-01,  7.62128830e-01,\n",
       "        6.19926035e-01,  9.94142592e-01,  1.89874113e+00,  2.15120554e+00,\n",
       "        2.47482944e+00,  2.14955735e+00,  1.51125836e+00,  1.55889142e+00,\n",
       "        1.55397022e+00,  1.37022781e+00,  1.09697616e+00,  7.83856153e-01,\n",
       "        7.69382894e-01,  1.04778779e+00,  1.40290010e+00,  1.54531181e+00,\n",
       "        9.34160233e-01,  1.34031785e+00,  1.81198263e+00,  2.02742243e+00,\n",
       "        1.79842627e+00,  1.41710651e+00,  1.51391625e+00,  1.29613197e+00,\n",
       "        9.94780958e-01,  7.16097474e-01,  9.68039632e-01,  8.54226351e-01,\n",
       "        8.54597747e-01,  6.52308166e-01,  3.12586099e-01,  1.02821931e-01,\n",
       "       -1.65079162e-01, -4.46583062e-01,  2.00722709e-01,  6.48292303e-01,\n",
       "        1.11105478e+00,  1.07895124e+00,  7.76741385e-01,  1.15708613e+00,\n",
       "        1.07795310e+00,  1.08137703e+00,  1.12225509e+00,  1.04883242e+00,\n",
       "        6.12381816e-01,  1.53744256e+00,  1.67185736e+00,  2.16125679e+00,\n",
       "        1.95240963e+00,  1.84082472e+00,  1.38511896e+00,  8.64718616e-01,\n",
       "        4.45434004e-01, -2.72311568e-01, -7.94986784e-01, -6.23245478e-01,\n",
       "       -3.02430421e-01, -2.95199573e-01, -3.41358602e-01,  2.26326622e-02,\n",
       "        3.99321407e-01,  1.23957351e-01, -7.40378276e-02,  6.45321049e-03,\n",
       "        1.30781978e-01, -1.94292702e-02,  4.02385533e-01,  1.28599957e-01,\n",
       "        4.38539773e-01,  7.64624178e-01,  4.11345750e-01,  8.59925151e-02,\n",
       "       -1.41610831e-01, -7.79341221e-01, -6.81869924e-01, -8.65345359e-01,\n",
       "       -1.54326904e+00, -9.96069312e-01, -3.98416102e-01, -1.22994013e-01,\n",
       "       -2.31456697e-01, -2.83987701e-01, -9.19582471e-02, -8.82906020e-02,\n",
       "       -1.57743856e-01,  1.28066048e-01, -1.19337969e-01, -6.55766875e-02,\n",
       "       -3.48659068e-01, -4.76957262e-01, -2.54797369e-01, -3.44039679e-01,\n",
       "        8.37988853e-02, -3.89003247e-01, -2.03125253e-01, -1.11898206e-01,\n",
       "        2.43887261e-01,  4.13829535e-01,  7.46715367e-01,  6.79989636e-01,\n",
       "        6.88009739e-01,  1.37954783e+00,  1.24751234e+00,  1.89618766e+00,\n",
       "        1.74478102e+00,  1.42927003e+00,  1.24931133e+00,  7.34702647e-01,\n",
       "        8.94733012e-01,  7.83682048e-01,  7.00672448e-01,  6.95530772e-01,\n",
       "        4.99555111e-01,  1.84601277e-01,  2.84881383e-01,  3.06492686e-01,\n",
       "       -2.88293689e-01, -7.03585625e-01, -3.29821736e-01,  1.27160743e-01,\n",
       "        4.80961502e-01,  6.51205540e-01,  4.53848720e-01,  4.82737303e-01,\n",
       "        4.65014160e-01,  1.42806306e-01,  1.90137580e-01,  2.33673543e-01,\n",
       "        4.57400322e-01,  8.77915174e-02,  2.43829221e-01,  4.50192690e-01,\n",
       "        5.96655011e-01,  9.18270946e-01,  9.86784101e-01,  1.08163238e+00,\n",
       "        7.51566887e-01,  1.66657642e-01,  3.59000474e-01, -1.99689731e-01,\n",
       "       -3.49390268e-01, -1.82570145e-01, -1.00814007e-01, -1.13720424e-01,\n",
       "       -3.82201858e-02,  2.28613108e-01,  1.26301870e-01,  2.24829391e-01,\n",
       "        7.37824813e-02,  1.86992228e-01, -2.26059675e-01, -1.89766176e-02,\n",
       "        3.18308085e-01,  3.03765148e-01,  3.49587590e-01,  9.72624216e-03,\n",
       "       -3.71175669e-02,  1.16413131e-01,  2.00061128e-01, -2.13629127e-01,\n",
       "       -4.82342660e-01, -1.70162812e-01, -4.34140891e-01,  3.35230350e-01,\n",
       "        5.16802371e-01,  5.77481091e-01,  1.06784391e+00,  1.06248164e+00,\n",
       "        1.07464528e+00,  1.17292905e+00,  8.88430655e-01,  5.22454739e-01,\n",
       "       -2.00780734e-01, -5.15525639e-01, -3.86844426e-01, -2.57025808e-01,\n",
       "        6.60409499e-03,  1.22796707e-02,  1.11770537e-02, -4.12355512e-01,\n",
       "        2.18515456e-01,  3.09707671e-01, -5.22756465e-02, -1.61005288e-01,\n",
       "       -1.13743637e-03,  6.74929202e-01,  7.68291831e-01,  6.42802417e-01,\n",
       "        6.77273750e-01,  2.71197349e-01,  3.56980920e-01,  3.74646008e-01,\n",
       "        8.98493528e-01,  2.34195828e-01,  2.27348000e-01,  1.00744367e-01,\n",
       "        4.67509568e-01,  4.10777032e-01,  1.07696652e-01, -7.35271350e-02,\n",
       "       -1.68305770e-01, -3.77373546e-01, -3.02047402e-01, -3.15685034e-01,\n",
       "       -2.07663387e-01, -3.78870785e-01, -2.42018610e-01, -3.12133431e-01,\n",
       "       -7.58809328e-01, -1.16569817e+00, -8.12257230e-01, -1.05668998e+00,\n",
       "       -1.08975697e+00, -9.64070201e-01, -1.48355365e+00, -1.03103971e+00,\n",
       "       -9.50467408e-01, -5.13784647e-01, -3.26757610e-01, -4.46362525e-01,\n",
       "       -2.45639831e-01,  2.35611829e-03,  3.79509121e-01,  7.59749472e-01,\n",
       "        9.78961349e-01,  1.01959562e+00,  9.62909520e-01,  8.29933941e-01,\n",
       "        6.19926035e-01,  3.86182874e-01,  1.37618199e-01,  2.76304185e-01,\n",
       "        5.43543696e-01,  3.54462326e-01,  1.08763289e+00,  1.20613527e+00,\n",
       "        8.13243806e-01,  6.96424425e-01,  4.85778183e-01,  8.33369493e-01,\n",
       "        3.13955665e-01,  1.91634819e-01, -2.26535544e-01, -6.53329566e-02,\n",
       "       -1.10563457e-01, -5.07203769e-03, -1.04609326e-01,  1.76685661e-01,\n",
       "        4.46466982e-01,  3.15290391e-01,  6.69450939e-01,  7.33170629e-01,\n",
       "        1.19944990e+00,  6.67466223e-01,  6.95588768e-01,  5.48348784e-01,\n",
       "        7.65564322e-01,  5.00808597e-01,  1.87038645e-01,  1.83835253e-01,\n",
       "        1.80597045e-02,  1.26650065e-01, -1.15623891e-01,  2.77511273e-02,\n",
       "       -6.59713075e-02, -1.69373557e-01, -3.47312719e-01, -1.08938552e-01,\n",
       "       -5.36103956e-02,  6.14076376e-01,  4.17706102e-01,  4.35719371e-01,\n",
       "        4.14549142e-01,  4.14491117e-01, -3.49355466e-03, -1.02438912e-01,\n",
       "        2.50479728e-01,  2.29344323e-01,  3.02569687e-01, -5.19274548e-02,\n",
       "       -7.51056224e-02,  1.66553184e-01,  1.65079162e-01, -1.57778680e-01,\n",
       "       -2.67425209e-01, -1.67272791e-01, -1.45162418e-01,  1.18072860e-01,\n",
       "       -2.63734370e-01,  2.33766392e-01, -1.69640511e-01, -1.31814957e-01,\n",
       "       -1.92424059e-01,  2.62654964e-02,  9.58580300e-02,  2.31828108e-01,\n",
       "        3.79578769e-01,  8.90055597e-01,  9.82408464e-01,  1.32370901e+00,\n",
       "        1.39383543e+00,  9.99829829e-01,  8.28216195e-01,  8.45068812e-01,\n",
       "        1.00629461e+00,  5.89400947e-01,  4.49322194e-01,  3.03451777e-01,\n",
       "        7.51114249e-01,  5.17788887e-01,  6.28480017e-01,  5.80475569e-01,\n",
       "        2.33290523e-01,  2.22299173e-01,  4.30716991e-01,  4.29509908e-01,\n",
       "       -1.44036589e-02,  8.20579100e-03, -4.07736123e-01, -3.62006538e-02,\n",
       "       -7.20995367e-02,  4.77386683e-01,  3.26154083e-01,  2.49887809e-01,\n",
       "        9.08289373e-01,  1.13668191e+00,  1.22592425e+00,  5.94751537e-01,\n",
       "        1.16323757e+00,  1.26196241e+00,  9.49179053e-01,  5.83168268e-01,\n",
       "        9.99203026e-02,  1.55410945e-01,  6.14865601e-01,  1.31861374e-01,\n",
       "       -3.88353281e-02,  1.13964163e-01, -1.12571381e-01, -1.25118000e-02,\n",
       "        2.03508258e-01,  1.95906013e-01, -6.30441546e-01, -8.33659649e-01,\n",
       "       -3.56145263e-01, -4.62983042e-01, -2.93528229e-01, -4.21791583e-01,\n",
       "       -3.59580785e-01,  2.29692519e-01,  3.78847569e-01,  2.53590286e-01,\n",
       "        2.86076874e-01,  1.29249915e-01, -2.57130265e-01, -1.06315482e-02,\n",
       "       -2.01674432e-01, -2.56724030e-01, -8.21159422e-01, -2.29657695e-01,\n",
       "       -9.12038311e-02, -1.15832806e-01,  1.15136420e-02, -2.93330908e-01,\n",
       "       -3.96001965e-01,  1.75675884e-01,  3.19236606e-01, -9.63571146e-02,\n",
       "       -2.20453739e-01, -1.49955899e-01,  2.07384825e-01,  6.03897452e-01,\n",
       "        2.94062138e-01, -1.15565859e-01,  1.83974534e-01, -1.69153035e-01,\n",
       "       -2.30133563e-01,  3.37807000e-01,  1.72460899e-01,  1.38256550e-01,\n",
       "        8.34947944e-01,  4.10034209e-01,  5.71201980e-01,  9.18653980e-02,\n",
       "        6.08087420e-01,  1.16877392e-01, -3.50899130e-01, -4.17590052e-01,\n",
       "       -5.63808620e-01, -6.96319997e-01, -6.85467899e-01, -5.13947129e-01,\n",
       "       -2.14058563e-01, -2.83860028e-01, -2.59416729e-01,  2.81294972e-01,\n",
       "        1.67121902e-01,  1.31745309e-01, -1.01208627e-01, -2.05899194e-01,\n",
       "        2.44200621e-02, -3.91928077e-01, -4.98011440e-01, -1.06026483e+00,\n",
       "       -7.45102108e-01, -5.64040780e-01, -4.96572226e-01, -7.25974560e-01,\n",
       "       -4.48324025e-01, -2.15242431e-01,  1.31606027e-01,  1.73308164e-01,\n",
       "        2.05226019e-01,  1.21891394e-01,  3.03312510e-01,  2.02243149e-01,\n",
       "        1.20603077e-01, -3.43192428e-01, -5.10755360e-01, -8.61329496e-01,\n",
       "       -8.47123146e-01, -1.41622436e+00, -1.19767404e+00, -1.53158128e+00,\n",
       "       -1.35009062e+00, -1.80826855e+00, -1.82766294e+00, -1.38579214e+00,\n",
       "       -1.49116755e+00, -1.39555323e+00, -1.19393682e+00, -1.26463199e+00,\n",
       "       -1.71089005e+00, -1.94682682e+00, -2.29588056e+00, -2.16291666e+00,\n",
       "       -2.04665422e+00, -1.82929945e+00, -1.24508667e+00, -1.01461649e+00,\n",
       "       -1.08001912e+00, -6.56904340e-01, -5.48929095e-01, -5.39307356e-01,\n",
       "       -9.64081824e-01, -1.14326286e+00, -1.28733420e+00, -1.21681321e+00,\n",
       "       -1.61273396e+00, -1.49843311e+00, -1.34508812e+00, -1.14471364e+00,\n",
       "       -1.06573153e+00, -8.00499856e-01, -6.18823409e-01, -8.68339837e-01,\n",
       "       -7.33553648e-01, -4.09511924e-01, -4.01515037e-01,  1.43096462e-01,\n",
       "        3.70804250e-01,  1.87038645e-01,  2.75956005e-01,  1.93851665e-01,\n",
       "        1.84102207e-01, -2.53497422e-01, -1.45394549e-01, -2.02568144e-01,\n",
       "       -4.52873796e-01, -3.75423640e-01, -1.19082630e-01,  4.42207418e-02,\n",
       "        7.55234584e-02, -1.09217107e-01,  7.63010904e-02, -3.09730887e-01,\n",
       "       -5.06193995e-01, -7.64101923e-01, -1.62046385e+00, -2.01560688e+00,\n",
       "       -1.85808361e+00, -1.77003670e+00, -1.83398855e+00, -1.82883525e+00,\n",
       "       -1.94167352e+00, -1.97657430e+00, -1.19390202e+00, -9.49225485e-01,\n",
       "       -4.76307303e-01,  2.03960910e-01,  7.98967838e-01,  9.91554379e-01,\n",
       "        1.36693156e+00,  8.10829639e-01,  5.15792608e-01,  4.78187529e-03,\n",
       "       -5.42336643e-01, -1.04443359e+00, -1.49996519e+00, -1.56667936e+00,\n",
       "       -1.32282686e+00, -1.24242878e+00, -1.40821588e+00, -1.71183014e+00,\n",
       "       -1.87266135e+00, -2.29333878e+00, -2.44707823e+00, -2.27489591e+00,\n",
       "       -2.18759203e+00, -1.69462931e+00, -1.66317570e+00, -9.48877275e-01,\n",
       "       -1.06573153e+00, -1.57978308e+00, -1.42954862e+00, -1.48201001e+00,\n",
       "       -1.54548585e+00, -1.50147402e+00, -1.42186511e+00, -1.06612611e+00,\n",
       "       -1.12436748e+00, -1.08383763e+00, -4.50575709e-01, -3.85474861e-01,\n",
       "       -3.02395582e-01, -1.55085966e-01, -6.43893480e-01, -1.00670087e+00,\n",
       "       -7.68175781e-01, -1.63545942e+00, -1.95550847e+00, -1.60335588e+00,\n",
       "       -1.33365583e+00, -1.52337551e+00, -1.32456791e+00, -1.41280043e+00,\n",
       "       -1.50673187e+00, -5.80974638e-01, -1.86551169e-01, -2.73855209e-01,\n",
       "       -2.84858167e-01,  9.61714089e-02, -2.88549036e-01,  1.26058131e-01,\n",
       "       -6.06102705e-01, -1.11627769e+00, -1.28317916e+00, -1.77840507e+00,\n",
       "       -1.69908619e+00, -1.85497308e+00, -1.58167493e+00, -1.63041055e+00,\n",
       "       -1.44327915e+00, -1.15538001e+00, -1.27103877e+00, -6.94695055e-01,\n",
       "       -2.28183672e-01, -5.96504152e-01, -4.06888843e-01, -6.43963099e-01,\n",
       "       -1.32555449e+00, -1.31471395e+00, -1.61835146e+00, -1.62259948e+00,\n",
       "       -1.74611580e+00, -1.23508179e+00, -1.67629111e+00, -1.10036528e+00,\n",
       "       -1.65844035e+00, -1.44387102e+00, -1.51166463e+00, -1.03883922e+00,\n",
       "       -1.07466853e+00, -7.43546784e-01, -8.51522028e-01, -5.29174864e-01,\n",
       "       -3.56342584e-01, -7.52356112e-01, -1.02632737e+00, -1.52631199e+00,\n",
       "       -1.73294234e+00, -1.54211998e+00, -1.62255299e+00, -2.15092707e+00,\n",
       "       -2.27121663e+00, -2.00829482e+00, -1.72745252e+00, -1.81997943e+00,\n",
       "       -2.08472371e+00, -1.66285074e+00, -1.65524852e+00, -9.37340438e-01,\n",
       "       -9.33069229e-01, -5.42545557e-01, -4.82110530e-01,  1.49805009e-01,\n",
       "        1.37235180e-01,  3.00875127e-01,  3.59209388e-01, -1.65380925e-01,\n",
       "       -2.69026905e-01, -7.85585523e-01, -9.95117545e-01, -7.98654437e-01,\n",
       "       -8.09494913e-01, -1.06215668e+00, -1.94773209e+00, -2.07684278e+00,\n",
       "       -2.28809261e+00, -2.62131500e+00, -2.23635077e+00, -2.21492529e+00,\n",
       "       -1.82845223e+00, -1.92138541e+00, -1.84572268e+00, -1.61903620e+00,\n",
       "       -1.22072458e+00, -8.02182794e-01, -7.57474601e-01, -8.25616300e-01,\n",
       "       -6.11000657e-01, -6.52041197e-01, -2.44548827e-01, -4.34663184e-02,\n",
       "        7.24477321e-02, -2.54275054e-01, -7.99919516e-02, -5.84874451e-01,\n",
       "       -8.68525565e-01, -1.88721585e+00, -2.05842328e+00, -2.07369733e+00,\n",
       "       -1.80198944e+00, -1.72356439e+00, -1.61127150e+00, -1.61933804e+00,\n",
       "       -1.78726077e+00, -1.47913158e+00, -1.71029806e+00, -1.36396039e+00,\n",
       "       -1.57471108e+00, -1.81451285e+00, -1.19944990e+00, -8.82383704e-01,\n",
       "       -1.01723957e+00, -2.66078860e-01, -5.05915463e-01, -4.39758450e-01,\n",
       "       -3.54021281e-01, -1.62200749e-01, -4.56901222e-01, -7.72783577e-01,\n",
       "       -8.15425813e-01, -9.40601885e-01, -1.21518826e+00, -1.04918063e+00,\n",
       "       -9.80563045e-01, -9.73250926e-01, -1.06753051e+00, -7.34435737e-01,\n",
       "       -9.40683126e-01, -4.34767663e-01, -3.82178634e-01,  3.78835946e-02,\n",
       "        5.23406446e-01,  6.80442333e-01,  5.77248991e-01,  2.87922293e-01,\n",
       "       -9.76106152e-03, -3.30727041e-01, -1.07723355e+00, -6.95925355e-01,\n",
       "       -1.35278332e+00, -1.27566969e+00, -1.32804990e+00, -1.12015438e+00,\n",
       "       -2.42575720e-01, -4.93589371e-01, -5.95355093e-01, -1.89940274e-01,\n",
       "       -3.18633080e-01, -2.63386160e-01, -3.65360826e-01, -2.29425564e-01,\n",
       "       -2.25676671e-01, -5.76784730e-01, -1.18043840e+00, -1.01408255e+00,\n",
       "       -9.86575186e-01, -8.86457562e-01, -1.14847422e+00, -1.41726899e+00,\n",
       "       -1.08561337e+00, -9.96185362e-01, -5.90306282e-01, -9.35541451e-01,\n",
       "       -1.28287733e+00, -1.69569719e+00, -1.89861345e+00, -1.89222991e+00,\n",
       "       -1.18828440e+00, -6.73536420e-01, -4.36798781e-01, -4.46768761e-01,\n",
       "       -5.50821006e-01, -6.69625044e-01, -1.16279662e+00, -1.49512529e+00,\n",
       "       -1.70319498e+00, -1.67439926e+00, -9.24550056e-01, -9.80516613e-01],\n",
       "      dtype=float32)"
      ]
     },
     "execution_count": 46,
     "metadata": {},
     "output_type": "execute_result"
    }
   ],
   "source": [
    "time_series[:,0]\n"
   ]
  },
  {
   "cell_type": "code",
   "execution_count": null,
   "metadata": {},
   "outputs": [],
   "source": []
  },
  {
   "cell_type": "code",
   "execution_count": 28,
   "metadata": {},
   "outputs": [],
   "source": [
    "#glob all func files\n",
    "func_files = glob(f'{func_dir}/func/*_bold.nii.gz')\n"
   ]
  },
  {
   "cell_type": "code",
   "execution_count": null,
   "metadata": {},
   "outputs": [],
   "source": []
  },
  {
   "cell_type": "code",
   "execution_count": 29,
   "metadata": {},
   "outputs": [],
   "source": [
    "\n",
    "        \n",
    "\n",
    "#extract roi timeseries\n",
    "masker = MultiNiftiMasker(mask_img = roi_img, standardize = True, smoothing_fwhm=params.smooth_mm)"
   ]
  },
  {
   "cell_type": "code",
   "execution_count": 30,
   "metadata": {},
   "outputs": [
    {
     "name": "stderr",
     "output_type": "stream",
     "text": [
      "/home/treeshrew1/anaconda3/envs/fmri/lib/python3.9/site-packages/joblib/memory.py:353: FutureWarning: The default strategy for standardize is currently 'zscore' which incorrectly uses population std to calculate sample zscores. The new strategy 'zscore_sample' corrects this behavior by using the sample std. In release 0.13, the default strategy will be replaced by the new strategy and the 'zscore' option will be removed. Please use 'zscore_sample' instead.\n",
      "  return self.func(*args, **kwargs)\n"
     ]
    }
   ],
   "source": [
    "fmri_data = masker.fit_transform(func_files)"
   ]
  },
  {
   "cell_type": "code",
   "execution_count": 31,
   "metadata": {},
   "outputs": [
    {
     "data": {
      "text/plain": [
       "4"
      ]
     },
     "execution_count": 31,
     "metadata": {},
     "output_type": "execute_result"
    }
   ],
   "source": [
    "len(fmri_data)"
   ]
  },
  {
   "cell_type": "code",
   "execution_count": 32,
   "metadata": {},
   "outputs": [
    {
     "data": {
      "text/plain": [
       "(900, 1452)"
      ]
     },
     "execution_count": 32,
     "metadata": {},
     "output_type": "execute_result"
    }
   ],
   "source": [
    "fmri_data[1].shape"
   ]
  },
  {
   "cell_type": "code",
   "execution_count": 6,
   "metadata": {},
   "outputs": [
    {
     "name": "stdout",
     "output_type": "stream",
     "text": [
      "0\n",
      "Loading /mnt/f/7T_HCP/sub-100610/ses-01/func/sub-100610_ses-01_task-rest_run-01_preproc_bold.nii.gz\n",
      "1\n",
      "Loading /mnt/f/7T_HCP/sub-100610/ses-01/func/sub-100610_ses-01_task-rest_run-02_preproc_bold.nii.gz\n",
      "2\n",
      "Loading /mnt/f/7T_HCP/sub-100610/ses-01/func/sub-100610_ses-01_task-rest_run-03_preproc_bold.nii.gz\n",
      "3\n",
      "Loading /mnt/f/7T_HCP/sub-100610/ses-01/func/sub-100610_ses-01_task-rest_run-04_preproc_bold.nii.gz\n",
      "Error loading /mnt/f/7T_HCP/sub-100610/ses-01/func/sub-100610_ses-01_task-rest_run-04_preproc_bold.nii.gz\n"
     ]
    }
   ],
   "source": [
    "\n",
    "func_files = glob(f'{func_dir}/func/*_bold.nii.gz')\n",
    "\n",
    "#loop through func files\n",
    "all_func = []\n",
    "for n, func_file in enumerate(func_files):\n",
    "    print(n)\n",
    "    #load func\n",
    "    try:\n",
    "        print(f'Loading {func_file}')\n",
    "        curr_img = image.load_img(func_file)\n",
    "        \n",
    "    except:\n",
    "        print(f'Error loading {func_file}')\n",
    "        continue\n",
    "    \n",
    "    all_func.append(curr_img)\n",
    "\n",
    "    \n",
    "\n",
    "#concatenate all func files\n",
    "func_img = image.concat_imgs(all_func)"
   ]
  },
  {
   "cell_type": "code",
   "execution_count": 7,
   "metadata": {},
   "outputs": [
    {
     "ename": "",
     "evalue": "",
     "output_type": "error",
     "traceback": [
      "\u001b[1;31mThe Kernel crashed while executing code in the the current cell or a previous cell. Please review the code in the cell(s) to identify a possible cause of the failure. Click <a href='https://aka.ms/vscodeJupyterKernelCrash'>here</a> for more info. View Jupyter <a href='command:jupyter.viewOutput'>log</a> for further details."
     ]
    }
   ],
   "source": [
    "func_img = image.concat_imgs(all_func)"
   ]
  },
  {
   "cell_type": "code",
   "execution_count": 21,
   "metadata": {},
   "outputs": [],
   "source": [
    "roi_img = image.load_img(f'{params.out_dir}/{sub}/{ses}/rois/{atlas}/lh_V1v_epi.nii.gz')\n",
    "masker = NiftiMasker(mask_img = roi_img, standardize = True, smoothing_fwhm=params.smooth_mm)"
   ]
  },
  {
   "cell_type": "code",
   "execution_count": 22,
   "metadata": {},
   "outputs": [
    {
     "name": "stderr",
     "output_type": "stream",
     "text": [
      "/home/treeshrew1/anaconda3/envs/fmri/lib/python3.9/site-packages/joblib/memory.py:353: FutureWarning: The default strategy for standardize is currently 'zscore' which incorrectly uses population std to calculate sample zscores. The new strategy 'zscore_sample' corrects this behavior by using the sample std. In release 0.13, the default strategy will be replaced by the new strategy and the 'zscore' option will be removed. Please use 'zscore_sample' instead.\n",
      "  return self.func(*args, **kwargs)\n"
     ]
    }
   ],
   "source": [
    "curr_ts = masker.fit_transform(func_img)"
   ]
  },
  {
   "cell_type": "code",
   "execution_count": 23,
   "metadata": {},
   "outputs": [
    {
     "ename": "ValueError",
     "evalue": "operands could not be broadcast together with shapes (113,136,113) (113,136,113,900) ",
     "output_type": "error",
     "traceback": [
      "\u001b[0;31m---------------------------------------------------------------------------\u001b[0m",
      "\u001b[0;31mValueError\u001b[0m                                Traceback (most recent call last)",
      "Cell \u001b[0;32mIn[23], line 6\u001b[0m\n\u001b[1;32m      3\u001b[0m func_np \u001b[39m=\u001b[39m func_img\u001b[39m.\u001b[39mget_fdata()\n\u001b[1;32m      5\u001b[0m \u001b[39m#multiply roi and func\u001b[39;00m\n\u001b[0;32m----> 6\u001b[0m roi_func \u001b[39m=\u001b[39m np\u001b[39m.\u001b[39;49mmultiply(roi_np, func_np)\n\u001b[1;32m      8\u001b[0m \u001b[39m#extract roi timeseries\u001b[39;00m\n\u001b[1;32m      9\u001b[0m roi_ts \u001b[39m=\u001b[39m roi_func[roi_func \u001b[39m!=\u001b[39m \u001b[39m0\u001b[39m]\n",
      "\u001b[0;31mValueError\u001b[0m: operands could not be broadcast together with shapes (113,136,113) (113,136,113,900) "
     ]
    }
   ],
   "source": [
    "#convert to numpy \n",
    "roi_np = roi_img.get_fdata()\n",
    "func_np = func_img.get_fdata()\n",
    "\n",
    "#multiply roi and func\n",
    "roi_func = np.multiply(roi_np, func_np)\n",
    "\n",
    "#extract roi timeseries\n",
    "roi_ts = roi_func[roi_func != 0]"
   ]
  },
  {
   "cell_type": "code",
   "execution_count": 6,
   "metadata": {},
   "outputs": [
    {
     "data": {
      "text/plain": [
       "array([[ True,  True,  True,  True],\n",
       "       [ True,  True,  True,  True],\n",
       "       [ True,  True,  True,  True],\n",
       "       [ True,  True,  True,  True]])"
      ]
     },
     "execution_count": 6,
     "metadata": {},
     "output_type": "execute_result"
    }
   ],
   "source": [
    "anat_affine == func_affine"
   ]
  },
  {
   "cell_type": "code",
   "execution_count": 4,
   "metadata": {},
   "outputs": [],
   "source": [
    "anat_dir = '/mnt/e/dHCP_raw/rel3_dhcp_anat_pipeline'\n",
    "func_dir = '/mnt/e/dHCP_raw/rel3_dhcp_fmri_pipeline'\n",
    "\n",
    "data_dir = '/mnt/e/dhcp_analysis_full'\n",
    "sub = 'sub-CC00056XX07'\n",
    "ses= 'ses-10700'\n",
    "sub_dir = f'{data_dir}/{sub}/{ses}'\n",
    "sub_anat = f'{anat_dir}/{sub}/{ses}'\n",
    "sub_func = f'{func_dir}/{sub}/{ses}'\n",
    "roi_dir = f'{sub_dir}/rois'\n",
    "atlas_dir = f'{sub_dir}/atlas'\n",
    "\n"
   ]
  },
  {
   "cell_type": "code",
   "execution_count": 7,
   "metadata": {},
   "outputs": [],
   "source": [
    "anat = image.load_img(f'{sub_anat}/anat/{sub}_{ses}_desc-restore_T2w.nii.gz')\n",
    "affine = anat.affine\n",
    "\n",
    "func = image.load_img(f'{sub_dir}/func/{sub}_{ses}_task-rest_desc-preproc_bold_1vol.nii.gz')\n",
    "atlas = image.load_img(f'{atlas_dir}/calcsulc_binnedroi_rh_anat.nii.gz')\n",
    "atlas = image.load_img(f'{atlas_dir}/Wang_maxprob_surf_rh_edits_anat.nii')"
   ]
  },
  {
   "cell_type": "code",
   "execution_count": 17,
   "metadata": {},
   "outputs": [],
   "source": [
    "roi = image.load_img(f'{sub_dir}/atlas/Wang_maxprob_surf_lh_edits_anat.nii')\n",
    "\n"
   ]
  },
  {
   "cell_type": "code",
   "execution_count": 8,
   "metadata": {},
   "outputs": [
    {
     "data": {
      "text/plain": [
       "(68, 67, 45, 2300)"
      ]
     },
     "execution_count": 8,
     "metadata": {},
     "output_type": "execute_result"
    }
   ],
   "source": [
    "func.shape"
   ]
  },
  {
   "cell_type": "code",
   "execution_count": 6,
   "metadata": {},
   "outputs": [
    {
     "ename": "IndexError",
     "evalue": "too many indices for array: array is 3-dimensional, but 5 were indexed",
     "output_type": "error",
     "traceback": [
      "\u001b[1;31m---------------------------------------------------------------------------\u001b[0m",
      "\u001b[1;31mIndexError\u001b[0m                                Traceback (most recent call last)",
      "Cell \u001b[1;32mIn[6], line 5\u001b[0m\n\u001b[0;32m      2\u001b[0m roi_data \u001b[39m=\u001b[39m roi\u001b[39m.\u001b[39mget_fdata()\n\u001b[0;32m      4\u001b[0m \u001b[39m#extrat mask dimension from roi\u001b[39;00m\n\u001b[1;32m----> 5\u001b[0m roi_data \u001b[39m=\u001b[39m roi_data[:,:,:,:,\u001b[39m1\u001b[39;49m]\n\u001b[0;32m      7\u001b[0m \u001b[39m#drop last dimension\u001b[39;00m\n\u001b[0;32m      8\u001b[0m roi_data \u001b[39m=\u001b[39m np\u001b[39m.\u001b[39msqueeze(roi_data)\n",
      "\u001b[1;31mIndexError\u001b[0m: too many indices for array: array is 3-dimensional, but 5 were indexed"
     ]
    }
   ],
   "source": [
    "\n",
    "#convert to numpy\n",
    "roi_data = roi.get_fdata()\n",
    "\n",
    "#extrat mask dimension from roi\n",
    "roi_data = roi_data[:,:,:,:,1]\n",
    "\n",
    "#drop last dimension\n",
    "roi_data = np.squeeze(roi_data)\n",
    "\n",
    "#convert back to nifti\n",
    "roi_nifti = nib.Nifti1Image(roi_data, affine=affine)\n",
    "\n",
    "#save nifti\n",
    "nib.save(roi_nifti, 'wang_lh.nii.gz')"
   ]
  },
  {
   "cell_type": "code",
   "execution_count": 40,
   "metadata": {},
   "outputs": [],
   "source": [
    "roi = image.load_img(f'{sub_dir}/Wang_maxprob_surf_lh_edits_extended_epi.nii')\n",
    "\n",
    "#create zero array with same dimensions as anat\n",
    "anat_copy = np.zeros(anat.shape)\n",
    "\n",
    "#convert roi to numpy\n",
    "affine = roi.affine\n",
    "\n",
    "roi_data = roi.get_fdata()\n",
    "\n",
    "\n",
    "\n",
    "#convert roi_data to nifti\n",
    "#roi_nifti = nib.Nifti1Image(roi_data, affine)\n"
   ]
  },
  {
   "cell_type": "code",
   "execution_count": 43,
   "metadata": {},
   "outputs": [],
   "source": [
    "anat_copy[:,0,0] = roi_data[0, 0, :,0,1]\n"
   ]
  },
  {
   "cell_type": "code",
   "execution_count": 30,
   "metadata": {},
   "outputs": [],
   "source": [
    "#convert roi to numpy\n",
    "affine = np.array(anat.affine)\n",
    "\n",
    "roi_data = roi.get_fdata()\n",
    "\n",
    "#extract second dimension\n",
    "roi_data = roi_data[:,:,:,:,1]\n",
    "\n",
    "#reshape roi_data to match anat \n",
    "roi_data = roi_data.reshape(anat.shape[0],anat.shape[1],anat.shape[2])\n",
    "\n",
    "#convert roi_data to nifti\n",
    "roi_nifti = nib.Nifti1Image(roi_data, affine)\n"
   ]
  },
  {
   "cell_type": "code",
   "execution_count": 31,
   "metadata": {},
   "outputs": [
    {
     "data": {
      "text/plain": [
       "(217, 290, 290)"
      ]
     },
     "execution_count": 31,
     "metadata": {},
     "output_type": "execute_result"
    }
   ],
   "source": [
    "roi_nifti.shape"
   ]
  },
  {
   "cell_type": "code",
   "execution_count": 15,
   "metadata": {},
   "outputs": [
    {
     "data": {
      "text/plain": [
       "(217, 290, 290)"
      ]
     },
     "execution_count": 15,
     "metadata": {},
     "output_type": "execute_result"
    }
   ],
   "source": [
    "anat.shape"
   ]
  }
 ],
 "metadata": {
  "kernelspec": {
   "display_name": "fmri",
   "language": "python",
   "name": "python3"
  },
  "language_info": {
   "codemirror_mode": {
    "name": "ipython",
    "version": 3
   },
   "file_extension": ".py",
   "mimetype": "text/x-python",
   "name": "python",
   "nbconvert_exporter": "python",
   "pygments_lexer": "ipython3",
   "version": "3.9.17"
  },
  "orig_nbformat": 4
 },
 "nbformat": 4,
 "nbformat_minor": 2
}
